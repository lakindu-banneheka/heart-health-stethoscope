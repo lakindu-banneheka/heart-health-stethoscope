{
 "cells": [
  {
   "cell_type": "code",
   "execution_count": 11,
   "id": "c9d9fb51-0908-4e80-b687-b682f176d94f",
   "metadata": {},
   "outputs": [],
   "source": [
    "import tensorflow.keras as keras\n",
    "import numpy as np\n",
    "import librosa\n",
    "import math"
   ]
  },
  {
   "cell_type": "code",
   "execution_count": 33,
   "id": "c1f04889-0dd1-4766-ab82-16103330e4fb",
   "metadata": {},
   "outputs": [],
   "source": [
    "# MODEL_PATH = \"models/heart_sound_model1_v3_0002_D5s.h5\"\n",
    "MODEL_PATH = \"models/heart_sound_model1_v3_0004_D5s.h5\"\n",
    "NUM_SAMPLES_TO_CONSIDER = 22050 # 1 sec"
   ]
  },
  {
   "cell_type": "code",
   "execution_count": 35,
   "id": "9f57be1c-7fb6-487e-8796-4c68655bdb42",
   "metadata": {},
   "outputs": [],
   "source": [
    "class _heart_sound_spotting_service:\n",
    "    model = None\n",
    "    _mappings = [\n",
    "        \"abnormal\",\n",
    "        \"artifact\",\n",
    "        \"normal\"\n",
    "    ]\n",
    "    _instance = None\n",
    "\n",
    "    def predict(self, file_path):\n",
    "        # extract MFCCs\n",
    "        MFCCs = self.preprocess(file_path) # (# segments, # coefficients) \n",
    "\n",
    "        # convert 2d MFCCs array into 4d array -> (# samples, # segments, # coefficients, # # channels=1)\n",
    "        MFCCs = MFCCs[np.newaxis, ..., np.newaxis]\n",
    "        \n",
    "        print(MFCCs.shape)\n",
    "        # make prediction\n",
    "        predictions = self.model.predict(MFCCs) # [[0.1,0.6,0.1]]\n",
    "        predict_index = np.argmax(predictions)\n",
    "        predicted_heart_sound = self._mappings[predict_index]\n",
    "\n",
    "        return predicted_heart_sound\n",
    "\n",
    "    # pre process method\n",
    "    def preprocess(self, file_path, n_mfcc=13, n_fft=2048, hop_length=512):\n",
    "\n",
    "        # load audio file\n",
    "        signal, sr = librosa.load(file_path, duration=5)\n",
    "        \n",
    "        # ensure consistency on the audio file length\n",
    "        if len(signal) > NUM_SAMPLES_TO_CONSIDER * 5:\n",
    "            signal = signal[:NUM_SAMPLES_TO_CONSIDER]\n",
    "        \n",
    "        # extract MFCCs\n",
    "        MFCCs = librosa.feature.mfcc(y=signal, sr=sr, n_mfcc=n_mfcc, n_fft=n_fft, hop_length=hop_length)\n",
    "        print(\"original: \",MFCCs.shape)\n",
    "        \n",
    "        return MFCCs.T"
   ]
  },
  {
   "cell_type": "code",
   "execution_count": 37,
   "id": "7722ef4e-73b4-4afd-9303-fb5f3e7db9b6",
   "metadata": {},
   "outputs": [],
   "source": [
    "SAMPLES_PER_TRACK=NUM_SAMPLES_TO_CONSIDER*5"
   ]
  },
  {
   "cell_type": "code",
   "execution_count": 39,
   "id": "b95e5d52-6db5-4ef2-b3de-1355dc1d97ae",
   "metadata": {},
   "outputs": [],
   "source": [
    "def Heart_sound_spotting_service():\n",
    "    #ensure that we only have 1 instance of HSSS\n",
    "    if _heart_sound_spotting_service._instance is None:\n",
    "        _heart_sound_spotting_service._instance = _heart_sound_spotting_service()\n",
    "        _heart_sound_spotting_service.model = keras.models.load_model(MODEL_PATH)\n",
    "        print(\"Model expects input of shape:\", _heart_sound_spotting_service.model.input_shape)\n",
    "    return _heart_sound_spotting_service._instance"
   ]
  },
  {
   "cell_type": "code",
   "execution_count": 41,
   "id": "44744d6b-2ed2-4502-aebb-edce40a0bc29",
   "metadata": {},
   "outputs": [
    {
     "name": "stderr",
     "output_type": "stream",
     "text": [
      "WARNING:absl:Compiled the loaded model, but the compiled metrics have yet to be built. `model.compile_metrics` will be empty until you train or evaluate the model.\n"
     ]
    },
    {
     "name": "stdout",
     "output_type": "stream",
     "text": [
      "Model expects input of shape: (None, 216, 13, 1)\n",
      "original:  (13, 215)\n",
      "(1, 215, 13, 1)\n",
      "\u001b[1m1/1\u001b[0m \u001b[32m━━━━━━━━━━━━━━━━━━━━\u001b[0m\u001b[37m\u001b[0m \u001b[1m0s\u001b[0m 293ms/step\n",
      "original:  (13, 216)\n",
      "(1, 216, 13, 1)\n",
      "\u001b[1m1/1\u001b[0m \u001b[32m━━━━━━━━━━━━━━━━━━━━\u001b[0m\u001b[37m\u001b[0m \u001b[1m0s\u001b[0m 327ms/step\n",
      "original:  (13, 216)\n",
      "(1, 216, 13, 1)\n",
      "\u001b[1m1/1\u001b[0m \u001b[32m━━━━━━━━━━━━━━━━━━━━\u001b[0m\u001b[37m\u001b[0m \u001b[1m0s\u001b[0m 54ms/step\n",
      "original:  (13, 216)\n",
      "(1, 216, 13, 1)\n",
      "\u001b[1m1/1\u001b[0m \u001b[32m━━━━━━━━━━━━━━━━━━━━\u001b[0m\u001b[37m\u001b[0m \u001b[1m0s\u001b[0m 43ms/step\n",
      "pred keywords artifact, abnormal, artifact, normal\n"
     ]
    }
   ],
   "source": [
    "HSSS = Heart_sound_spotting_service()\n",
    "pred1 = HSSS.predict(\"test_data/112.wav\")\n",
    "pred2 = HSSS.predict(\"test_data/normal__140_1306519735121_B.wav\")\n",
    "\n",
    "pred3 = HSSS.predict(\"test_data/artifact__201105040918.wav\")\n",
    "pred4 = HSSS.predict(\"data/normal/normal__260_1309353164458_C.wav\")\n",
    "\n",
    "\n",
    "print(f\"pred keywords {pred1}, {pred2}, {pred3}, {pred4}\")"
   ]
  }
 ],
 "metadata": {
  "kernelspec": {
   "display_name": "Python [conda env:base] *",
   "language": "python",
   "name": "conda-base-py"
  },
  "language_info": {
   "codemirror_mode": {
    "name": "ipython",
    "version": 3
   },
   "file_extension": ".py",
   "mimetype": "text/x-python",
   "name": "python",
   "nbconvert_exporter": "python",
   "pygments_lexer": "ipython3",
   "version": "3.12.7"
  }
 },
 "nbformat": 4,
 "nbformat_minor": 5
}
