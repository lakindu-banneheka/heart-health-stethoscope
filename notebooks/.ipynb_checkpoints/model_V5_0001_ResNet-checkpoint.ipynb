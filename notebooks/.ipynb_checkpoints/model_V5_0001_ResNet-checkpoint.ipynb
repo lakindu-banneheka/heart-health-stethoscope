{
 "cells": [
  {
   "cell_type": "markdown",
   "id": "51dcd7c6-d22f-4d46-a066-0b505fa4670c",
   "metadata": {},
   "source": [
    "## Heart Sound Classification with 2D-ResNet"
   ]
  },
  {
   "cell_type": "code",
   "execution_count": 63,
   "id": "92e0afa7-1629-42c7-9e3e-59d7586a2420",
   "metadata": {},
   "outputs": [],
   "source": [
    "# Import required libraries\n",
    "import os\n",
    "import numpy as np\n",
    "import librosa\n",
    "import tensorflow as tf\n",
    "from tensorflow.keras import layers, Model, regularizers\n",
    "from sklearn.model_selection import train_test_split\n",
    "from sklearn.preprocessing import LabelEncoder\n",
    "import matplotlib.pyplot as plt\n",
    "from sklearn.metrics import classification_report, confusion_matrix\n",
    "import seaborn as sns"
   ]
  },
  {
   "cell_type": "markdown",
   "id": "59d46944-a17b-4fca-8771-9586d117217f",
   "metadata": {
    "jp-MarkdownHeadingCollapsed": true
   },
   "source": [
    "### Configuration"
   ]
  },
  {
   "cell_type": "code",
   "execution_count": 26,
   "id": "d4c08519-cc17-4236-8b2e-b766ffd8a230",
   "metadata": {},
   "outputs": [],
   "source": [
    "# parameters\n",
    "DATA_DIR = \"data\" \n",
    "CLASSES = [\"abnormal\", \"artifact\", \"normal\"]\n",
    "SAMPLE_RATE = 22050\n",
    "DURATION = 10  # seconds\n",
    "N_MFCC = 64\n",
    "INPUT_SHAPE = (128, 128, 1)  # Updated for 2D input\n",
    "BATCH_SIZE = 32\n",
    "EPOCHS = 50"
   ]
  },
  {
   "cell_type": "markdown",
   "id": "d6729b9c-cd5e-4668-98f7-7f5093a7c625",
   "metadata": {
    "jp-MarkdownHeadingCollapsed": true
   },
   "source": [
    "### Audio Processing Functions"
   ]
  },
  {
   "cell_type": "code",
   "execution_count": 9,
   "id": "f84f44fa-d3ca-4d89-938a-f06c62bd2887",
   "metadata": {},
   "outputs": [],
   "source": [
    "def process_audio(file_path):\n",
    "    input_length = SAMPLE_RATE * DURATION\n",
    "    \n",
    "    # Load audio\n",
    "    X, sr = librosa.load(file_path, sr=SAMPLE_RATE, duration=DURATION)\n",
    "    \n",
    "    # Pad if shorter than duration\n",
    "    if len(X) < input_length:\n",
    "        pad_width = input_length - len(X)\n",
    "        X = np.pad(X, (0, pad_width), mode='constant')\n",
    "    \n",
    "    # Extract MFCCs with temporal information\n",
    "    mfccs = librosa.feature.mfcc(y=X, sr=sr, n_mfcc=N_MFCC, \n",
    "                                n_fft=2048, hop_length=512)\n",
    "    \n",
    "    # Normalize MFCCs\n",
    "    mfccs = (mfccs - np.mean(mfccs)) / np.std(mfccs)\n",
    "    \n",
    "    return mfccs\n",
    "\n",
    "# Data augmentation\n",
    "def time_masking(mels, max_mask=10):\n",
    "    num_steps = mels.shape[1]\n",
    "    t = np.random.randint(0, max_mask)\n",
    "    t0 = np.random.randint(0, num_steps - t)\n",
    "    mels[:, t0:t0+t] = 0\n",
    "    return mels\n",
    "\n",
    "def frequency_masking(mels, max_mask=10):\n",
    "    num_mels = mels.shape[0]\n",
    "    f = np.random.randint(0, max_mask)\n",
    "    f0 = np.random.randint(0, num_mels - f)\n",
    "    mels[f0:f0+f, :] = 0\n",
    "    return mels"
   ]
  },
  {
   "cell_type": "markdown",
   "id": "ed483fb6-feda-4b00-8450-487c2e2288d7",
   "metadata": {
    "jp-MarkdownHeadingCollapsed": true
   },
   "source": [
    "### Data Loading"
   ]
  },
  {
   "cell_type": "code",
   "execution_count": 12,
   "id": "a58a5bd3-fad4-4675-84f3-db4aa7d4d415",
   "metadata": {},
   "outputs": [],
   "source": [
    "def load_dataset(data_dir):\n",
    "    features = []\n",
    "    labels = []\n",
    "    \n",
    "    for label_idx, class_name in enumerate(CLASSES):\n",
    "        class_dir = os.path.join(data_dir, class_name)\n",
    "        for file_name in os.listdir(class_dir):\n",
    "            file_path = os.path.join(class_dir, file_name)\n",
    "            \n",
    "            # Process audio\n",
    "            mfccs = process_audio(file_path)\n",
    "            \n",
    "            # Basic data augmentation\n",
    "            mfccs_aug = time_masking(mfccs.copy())\n",
    "            mfccs_aug = frequency_masking(mfccs_aug)\n",
    "            \n",
    "            # Resize to input shape (using interpolation)\n",
    "            mfccs = tf.image.resize(mfccs[..., np.newaxis], INPUT_SHAPE[:2])\n",
    "            mfccs_aug = tf.image.resize(mfccs_aug[..., np.newaxis], INPUT_SHAPE[:2])\n",
    "            \n",
    "            features.extend([mfccs, mfccs_aug])\n",
    "            labels.extend([label_idx, label_idx])\n",
    "    \n",
    "    return np.array(features), tf.keras.utils.to_categorical(labels)"
   ]
  },
  {
   "cell_type": "markdown",
   "id": "a6ce5971-6a19-46ec-8c6c-9eaf6754fb3c",
   "metadata": {
    "jp-MarkdownHeadingCollapsed": true
   },
   "source": [
    "### 2D-ResNet Model Architecture"
   ]
  },
  {
   "cell_type": "code",
   "execution_count": 17,
   "id": "24217865-1fb3-468d-9ac2-aa3532fc1f4c",
   "metadata": {},
   "outputs": [],
   "source": [
    "def residual_block(x, filters, kernel_size=3, dropout_rate=0.2, l2_weight=1e-4):\n",
    "    shortcut = x\n",
    "    x = layers.Conv2D(filters, kernel_size, padding='same', \n",
    "                     kernel_regularizer=regularizers.l2(l2_weight))(x)\n",
    "    x = layers.BatchNormalization()(x)\n",
    "    x = layers.Activation('relu')(x)\n",
    "    x = layers.Dropout(dropout_rate)(x)\n",
    "    \n",
    "    x = layers.Conv2D(filters, kernel_size, padding='same', \n",
    "                     kernel_regularizer=regularizers.l2(l2_weight))(x)\n",
    "    x = layers.BatchNormalization()(x)\n",
    "    \n",
    "    if shortcut.shape[-1] != filters:\n",
    "        shortcut = layers.Conv2D(filters, 1, padding='same', \n",
    "                                kernel_regularizer=regularizers.l2(l2_weight))(shortcut)\n",
    "        shortcut = layers.BatchNormalization()(shortcut)\n",
    "    \n",
    "    x = layers.Add()([shortcut, x])\n",
    "    x = layers.Activation('relu')(x)\n",
    "    return x\n",
    "\n",
    "def build_2d_resnet(input_shape=INPUT_SHAPE, num_classes=3):\n",
    "    inputs = layers.Input(shape=input_shape)\n",
    "    \n",
    "    # Initial layers\n",
    "    x = layers.Conv2D(64, 7, strides=2, padding='same', \n",
    "                     kernel_regularizer=regularizers.l2(1e-4))(inputs)\n",
    "    x = layers.BatchNormalization()(x)\n",
    "    x = layers.Activation('relu')(x)\n",
    "    x = layers.MaxPooling2D(3, strides=2, padding='same')(x)\n",
    "    \n",
    "    # Residual blocks\n",
    "    x = residual_block(x, 64, dropout_rate=0.2)\n",
    "    x = residual_block(x, 128, dropout_rate=0.3)\n",
    "    x = residual_block(x, 256, dropout_rate=0.4)\n",
    "    \n",
    "    # Final layers\n",
    "    x = layers.GlobalAveragePooling2D()(x)\n",
    "    x = layers.Dense(256, activation='relu', \n",
    "                    kernel_regularizer=regularizers.l2(1e-4))(x)\n",
    "    x = layers.Dropout(0.5)(x)\n",
    "    outputs = layers.Dense(num_classes, activation='softmax')(x)\n",
    "    \n",
    "    return Model(inputs, outputs)"
   ]
  },
  {
   "cell_type": "markdown",
   "id": "114388c4-6537-498f-9cd3-afab8d2a406c",
   "metadata": {
    "jp-MarkdownHeadingCollapsed": true
   },
   "source": [
    "### Training Setup"
   ]
  },
  {
   "cell_type": "code",
   "execution_count": 28,
   "id": "54b08546-7f33-49ce-bb70-22f69f4f8a0b",
   "metadata": {},
   "outputs": [
    {
     "name": "stdout",
     "output_type": "stream",
     "text": [
      "Loading data...\n"
     ]
    },
    {
     "name": "stderr",
     "output_type": "stream",
     "text": [
      "C:\\Users\\Lakindu\\anaconda3\\Lib\\site-packages\\paramiko\\pkey.py:82: CryptographyDeprecationWarning: TripleDES has been moved to cryptography.hazmat.decrepit.ciphers.algorithms.TripleDES and will be removed from this module in 48.0.0.\n",
      "  \"cipher\": algorithms.TripleDES,\n",
      "C:\\Users\\Lakindu\\anaconda3\\Lib\\site-packages\\paramiko\\transport.py:219: CryptographyDeprecationWarning: Blowfish has been moved to cryptography.hazmat.decrepit.ciphers.algorithms.Blowfish and will be removed from this module in 45.0.0.\n",
      "  \"class\": algorithms.Blowfish,\n",
      "C:\\Users\\Lakindu\\anaconda3\\Lib\\site-packages\\paramiko\\transport.py:243: CryptographyDeprecationWarning: TripleDES has been moved to cryptography.hazmat.decrepit.ciphers.algorithms.TripleDES and will be removed from this module in 48.0.0.\n",
      "  \"class\": algorithms.TripleDES,\n"
     ]
    }
   ],
   "source": [
    "# Load and prepare data\n",
    "print(\"Loading data...\")\n",
    "X, y = load_dataset(DATA_DIR)\n",
    "X_train, X_val, y_train, y_val = train_test_split(X, y, test_size=0.2, stratify=y)"
   ]
  },
  {
   "cell_type": "code",
   "execution_count": 33,
   "id": "82bbe239-43f1-463f-9b7c-9b9e857d7cc3",
   "metadata": {},
   "outputs": [],
   "source": [
    "# Build model\n",
    "model = build_2d_resnet()\n",
    "model.compile(optimizer=tf.keras.optimizers.Adam(1e-4),\n",
    "             loss='categorical_crossentropy',\n",
    "             metrics=['accuracy', \n",
    "                     tf.keras.metrics.Precision(name='precision'),\n",
    "                     tf.keras.metrics.Recall(name='recall')])"
   ]
  },
  {
   "cell_type": "code",
   "execution_count": 35,
   "id": "4cdbd132-154e-4fc9-b7e5-6d68a92e4f53",
   "metadata": {},
   "outputs": [],
   "source": [
    "# Callbacks\n",
    "callbacks = [\n",
    "    tf.keras.callbacks.ModelCheckpoint(\"best_model.h5\", save_best_only=True),\n",
    "    tf.keras.callbacks.EarlyStopping(patience=10, restore_best_weights=True),\n",
    "    tf.keras.callbacks.ReduceLROnPlateau(factor=0.5, patience=3)\n",
    "]"
   ]
  },
  {
   "cell_type": "markdown",
   "id": "6c67a72d-eb07-4aed-ba94-f50cb34db236",
   "metadata": {},
   "source": [
    "### Model Training"
   ]
  },
  {
   "cell_type": "code",
   "execution_count": 37,
   "id": "1ae21701-68c4-4f62-b52b-751d0152d492",
   "metadata": {},
   "outputs": [
    {
     "name": "stdout",
     "output_type": "stream",
     "text": [
      "Starting training...\n",
      "Epoch 1/50\n",
      "\u001b[1m113/113\u001b[0m \u001b[32m━━━━━━━━━━━━━━━━━━━━\u001b[0m\u001b[37m\u001b[0m \u001b[1m0s\u001b[0m 2s/step - accuracy: 0.5652 - loss: 0.9604 - precision: 0.5966 - recall: 0.4177"
     ]
    },
    {
     "name": "stderr",
     "output_type": "stream",
     "text": [
      "WARNING:absl:You are saving your model as an HDF5 file via `model.save()` or `keras.saving.save_model(model)`. This file format is considered legacy. We recommend using instead the native Keras format, e.g. `model.save('my_model.keras')` or `keras.saving.save_model(model, 'my_model.keras')`. \n"
     ]
    },
    {
     "name": "stdout",
     "output_type": "stream",
     "text": [
      "\u001b[1m113/113\u001b[0m \u001b[32m━━━━━━━━━━━━━━━━━━━━\u001b[0m\u001b[37m\u001b[0m \u001b[1m235s\u001b[0m 2s/step - accuracy: 0.5660 - loss: 0.9590 - precision: 0.5974 - recall: 0.4192 - val_accuracy: 0.3637 - val_loss: 1.3210 - val_precision: 0.3641 - val_recall: 0.3637 - learning_rate: 1.0000e-04\n",
      "Epoch 2/50\n",
      "\u001b[1m113/113\u001b[0m \u001b[32m━━━━━━━━━━━━━━━━━━━━\u001b[0m\u001b[37m\u001b[0m \u001b[1m0s\u001b[0m 2s/step - accuracy: 0.7659 - loss: 0.6138 - precision: 0.7767 - recall: 0.7505"
     ]
    },
    {
     "name": "stderr",
     "output_type": "stream",
     "text": [
      "WARNING:absl:You are saving your model as an HDF5 file via `model.save()` or `keras.saving.save_model(model)`. This file format is considered legacy. We recommend using instead the native Keras format, e.g. `model.save('my_model.keras')` or `keras.saving.save_model(model, 'my_model.keras')`. \n"
     ]
    },
    {
     "name": "stdout",
     "output_type": "stream",
     "text": [
      "\u001b[1m113/113\u001b[0m \u001b[32m━━━━━━━━━━━━━━━━━━━━\u001b[0m\u001b[37m\u001b[0m \u001b[1m225s\u001b[0m 2s/step - accuracy: 0.7660 - loss: 0.6137 - precision: 0.7768 - recall: 0.7505 - val_accuracy: 0.3660 - val_loss: 1.2426 - val_precision: 0.3706 - val_recall: 0.3648 - learning_rate: 1.0000e-04\n",
      "Epoch 3/50\n",
      "\u001b[1m113/113\u001b[0m \u001b[32m━━━━━━━━━━━━━━━━━━━━\u001b[0m\u001b[37m\u001b[0m \u001b[1m0s\u001b[0m 2s/step - accuracy: 0.7696 - loss: 0.5957 - precision: 0.7770 - recall: 0.7596"
     ]
    },
    {
     "name": "stderr",
     "output_type": "stream",
     "text": [
      "WARNING:absl:You are saving your model as an HDF5 file via `model.save()` or `keras.saving.save_model(model)`. This file format is considered legacy. We recommend using instead the native Keras format, e.g. `model.save('my_model.keras')` or `keras.saving.save_model(model, 'my_model.keras')`. \n"
     ]
    },
    {
     "name": "stdout",
     "output_type": "stream",
     "text": [
      "\u001b[1m113/113\u001b[0m \u001b[32m━━━━━━━━━━━━━━━━━━━━\u001b[0m\u001b[37m\u001b[0m \u001b[1m209s\u001b[0m 2s/step - accuracy: 0.7697 - loss: 0.5955 - precision: 0.7771 - recall: 0.7597 - val_accuracy: 0.5984 - val_loss: 0.9718 - val_precision: 0.6029 - val_recall: 0.5506 - learning_rate: 1.0000e-04\n",
      "Epoch 4/50\n",
      "\u001b[1m113/113\u001b[0m \u001b[32m━━━━━━━━━━━━━━━━━━━━\u001b[0m\u001b[37m\u001b[0m \u001b[1m210s\u001b[0m 2s/step - accuracy: 0.8146 - loss: 0.5390 - precision: 0.8207 - recall: 0.8067 - val_accuracy: 0.6207 - val_loss: 1.0421 - val_precision: 0.6275 - val_recall: 0.5829 - learning_rate: 1.0000e-04\n",
      "Epoch 5/50\n",
      "\u001b[1m113/113\u001b[0m \u001b[32m━━━━━━━━━━━━━━━━━━━━\u001b[0m\u001b[37m\u001b[0m \u001b[1m0s\u001b[0m 2s/step - accuracy: 0.8088 - loss: 0.5310 - precision: 0.8128 - recall: 0.8010"
     ]
    },
    {
     "name": "stderr",
     "output_type": "stream",
     "text": [
      "WARNING:absl:You are saving your model as an HDF5 file via `model.save()` or `keras.saving.save_model(model)`. This file format is considered legacy. We recommend using instead the native Keras format, e.g. `model.save('my_model.keras')` or `keras.saving.save_model(model, 'my_model.keras')`. \n"
     ]
    },
    {
     "name": "stdout",
     "output_type": "stream",
     "text": [
      "\u001b[1m113/113\u001b[0m \u001b[32m━━━━━━━━━━━━━━━━━━━━\u001b[0m\u001b[37m\u001b[0m \u001b[1m213s\u001b[0m 2s/step - accuracy: 0.8088 - loss: 0.5310 - precision: 0.8128 - recall: 0.8010 - val_accuracy: 0.7186 - val_loss: 0.7273 - val_precision: 0.7267 - val_recall: 0.7097 - learning_rate: 1.0000e-04\n",
      "Epoch 6/50\n",
      "\u001b[1m113/113\u001b[0m \u001b[32m━━━━━━━━━━━━━━━━━━━━\u001b[0m\u001b[37m\u001b[0m \u001b[1m0s\u001b[0m 2s/step - accuracy: 0.8155 - loss: 0.5242 - precision: 0.8204 - recall: 0.8089"
     ]
    },
    {
     "name": "stderr",
     "output_type": "stream",
     "text": [
      "WARNING:absl:You are saving your model as an HDF5 file via `model.save()` or `keras.saving.save_model(model)`. This file format is considered legacy. We recommend using instead the native Keras format, e.g. `model.save('my_model.keras')` or `keras.saving.save_model(model, 'my_model.keras')`. \n"
     ]
    },
    {
     "name": "stdout",
     "output_type": "stream",
     "text": [
      "\u001b[1m113/113\u001b[0m \u001b[32m━━━━━━━━━━━━━━━━━━━━\u001b[0m\u001b[37m\u001b[0m \u001b[1m215s\u001b[0m 2s/step - accuracy: 0.8156 - loss: 0.5241 - precision: 0.8205 - recall: 0.8090 - val_accuracy: 0.7920 - val_loss: 0.5803 - val_precision: 0.7962 - val_recall: 0.7864 - learning_rate: 1.0000e-04\n",
      "Epoch 7/50\n",
      "\u001b[1m113/113\u001b[0m \u001b[32m━━━━━━━━━━━━━━━━━━━━\u001b[0m\u001b[37m\u001b[0m \u001b[1m211s\u001b[0m 2s/step - accuracy: 0.8377 - loss: 0.4935 - precision: 0.8447 - recall: 0.8354 - val_accuracy: 0.7620 - val_loss: 0.6093 - val_precision: 0.7625 - val_recall: 0.7608 - learning_rate: 1.0000e-04\n",
      "Epoch 8/50\n",
      "\u001b[1m113/113\u001b[0m \u001b[32m━━━━━━━━━━━━━━━━━━━━\u001b[0m\u001b[37m\u001b[0m \u001b[1m0s\u001b[0m 2s/step - accuracy: 0.8444 - loss: 0.4806 - precision: 0.8464 - recall: 0.8420"
     ]
    },
    {
     "name": "stderr",
     "output_type": "stream",
     "text": [
      "WARNING:absl:You are saving your model as an HDF5 file via `model.save()` or `keras.saving.save_model(model)`. This file format is considered legacy. We recommend using instead the native Keras format, e.g. `model.save('my_model.keras')` or `keras.saving.save_model(model, 'my_model.keras')`. \n"
     ]
    },
    {
     "name": "stdout",
     "output_type": "stream",
     "text": [
      "\u001b[1m113/113\u001b[0m \u001b[32m━━━━━━━━━━━━━━━━━━━━\u001b[0m\u001b[37m\u001b[0m \u001b[1m227s\u001b[0m 2s/step - accuracy: 0.8443 - loss: 0.4807 - precision: 0.8463 - recall: 0.8419 - val_accuracy: 0.8387 - val_loss: 0.4815 - val_precision: 0.8393 - val_recall: 0.8365 - learning_rate: 1.0000e-04\n",
      "Epoch 9/50\n",
      "\u001b[1m113/113\u001b[0m \u001b[32m━━━━━━━━━━━━━━━━━━━━\u001b[0m\u001b[37m\u001b[0m \u001b[1m229s\u001b[0m 2s/step - accuracy: 0.8253 - loss: 0.4888 - precision: 0.8285 - recall: 0.8218 - val_accuracy: 0.8443 - val_loss: 0.4881 - val_precision: 0.8439 - val_recall: 0.8420 - learning_rate: 1.0000e-04\n",
      "Epoch 10/50\n",
      "\u001b[1m113/113\u001b[0m \u001b[32m━━━━━━━━━━━━━━━━━━━━\u001b[0m\u001b[37m\u001b[0m \u001b[1m217s\u001b[0m 2s/step - accuracy: 0.8282 - loss: 0.4855 - precision: 0.8310 - recall: 0.8263 - val_accuracy: 0.7964 - val_loss: 0.5935 - val_precision: 0.7998 - val_recall: 0.7953 - learning_rate: 1.0000e-04\n",
      "Epoch 11/50\n",
      "\u001b[1m113/113\u001b[0m \u001b[32m━━━━━━━━━━━━━━━━━━━━\u001b[0m\u001b[37m\u001b[0m \u001b[1m226s\u001b[0m 2s/step - accuracy: 0.8436 - loss: 0.4634 - precision: 0.8451 - recall: 0.8424 - val_accuracy: 0.8031 - val_loss: 0.5323 - val_precision: 0.8036 - val_recall: 0.8009 - learning_rate: 1.0000e-04\n",
      "Epoch 12/50\n",
      "\u001b[1m113/113\u001b[0m \u001b[32m━━━━━━━━━━━━━━━━━━━━\u001b[0m\u001b[37m\u001b[0m \u001b[1m0s\u001b[0m 2s/step - accuracy: 0.8525 - loss: 0.4693 - precision: 0.8543 - recall: 0.8506"
     ]
    },
    {
     "name": "stderr",
     "output_type": "stream",
     "text": [
      "WARNING:absl:You are saving your model as an HDF5 file via `model.save()` or `keras.saving.save_model(model)`. This file format is considered legacy. We recommend using instead the native Keras format, e.g. `model.save('my_model.keras')` or `keras.saving.save_model(model, 'my_model.keras')`. \n"
     ]
    },
    {
     "name": "stdout",
     "output_type": "stream",
     "text": [
      "\u001b[1m113/113\u001b[0m \u001b[32m━━━━━━━━━━━━━━━━━━━━\u001b[0m\u001b[37m\u001b[0m \u001b[1m217s\u001b[0m 2s/step - accuracy: 0.8525 - loss: 0.4691 - precision: 0.8543 - recall: 0.8506 - val_accuracy: 0.8432 - val_loss: 0.4812 - val_precision: 0.8456 - val_recall: 0.8409 - learning_rate: 5.0000e-05\n",
      "Epoch 13/50\n",
      "\u001b[1m113/113\u001b[0m \u001b[32m━━━━━━━━━━━━━━━━━━━━\u001b[0m\u001b[37m\u001b[0m \u001b[1m198s\u001b[0m 2s/step - accuracy: 0.8595 - loss: 0.4399 - precision: 0.8628 - recall: 0.8564 - val_accuracy: 0.8220 - val_loss: 0.4880 - val_precision: 0.8225 - val_recall: 0.8198 - learning_rate: 5.0000e-05\n",
      "Epoch 14/50\n",
      "\u001b[1m113/113\u001b[0m \u001b[32m━━━━━━━━━━━━━━━━━━━━\u001b[0m\u001b[37m\u001b[0m \u001b[1m0s\u001b[0m 2s/step - accuracy: 0.8775 - loss: 0.4147 - precision: 0.8783 - recall: 0.8759"
     ]
    },
    {
     "name": "stderr",
     "output_type": "stream",
     "text": [
      "WARNING:absl:You are saving your model as an HDF5 file via `model.save()` or `keras.saving.save_model(model)`. This file format is considered legacy. We recommend using instead the native Keras format, e.g. `model.save('my_model.keras')` or `keras.saving.save_model(model, 'my_model.keras')`. \n"
     ]
    },
    {
     "name": "stdout",
     "output_type": "stream",
     "text": [
      "\u001b[1m113/113\u001b[0m \u001b[32m━━━━━━━━━━━━━━━━━━━━\u001b[0m\u001b[37m\u001b[0m \u001b[1m205s\u001b[0m 2s/step - accuracy: 0.8774 - loss: 0.4149 - precision: 0.8783 - recall: 0.8759 - val_accuracy: 0.8521 - val_loss: 0.4394 - val_precision: 0.8519 - val_recall: 0.8509 - learning_rate: 5.0000e-05\n",
      "Epoch 15/50\n",
      "\u001b[1m113/113\u001b[0m \u001b[32m━━━━━━━━━━━━━━━━━━━━\u001b[0m\u001b[37m\u001b[0m \u001b[1m0s\u001b[0m 2s/step - accuracy: 0.8693 - loss: 0.4126 - precision: 0.8709 - recall: 0.8682"
     ]
    },
    {
     "name": "stderr",
     "output_type": "stream",
     "text": [
      "WARNING:absl:You are saving your model as an HDF5 file via `model.save()` or `keras.saving.save_model(model)`. This file format is considered legacy. We recommend using instead the native Keras format, e.g. `model.save('my_model.keras')` or `keras.saving.save_model(model, 'my_model.keras')`. \n"
     ]
    },
    {
     "name": "stdout",
     "output_type": "stream",
     "text": [
      "\u001b[1m113/113\u001b[0m \u001b[32m━━━━━━━━━━━━━━━━━━━━\u001b[0m\u001b[37m\u001b[0m \u001b[1m210s\u001b[0m 2s/step - accuracy: 0.8692 - loss: 0.4127 - precision: 0.8708 - recall: 0.8681 - val_accuracy: 0.8665 - val_loss: 0.4198 - val_precision: 0.8675 - val_recall: 0.8665 - learning_rate: 5.0000e-05\n",
      "Epoch 16/50\n",
      "\u001b[1m113/113\u001b[0m \u001b[32m━━━━━━━━━━━━━━━━━━━━\u001b[0m\u001b[37m\u001b[0m \u001b[1m222s\u001b[0m 2s/step - accuracy: 0.8752 - loss: 0.4101 - precision: 0.8761 - recall: 0.8741 - val_accuracy: 0.8643 - val_loss: 0.4215 - val_precision: 0.8653 - val_recall: 0.8643 - learning_rate: 5.0000e-05\n",
      "Epoch 17/50\n",
      "\u001b[1m113/113\u001b[0m \u001b[32m━━━━━━━━━━━━━━━━━━━━\u001b[0m\u001b[37m\u001b[0m \u001b[1m0s\u001b[0m 2s/step - accuracy: 0.8599 - loss: 0.4287 - precision: 0.8606 - recall: 0.8565"
     ]
    },
    {
     "name": "stderr",
     "output_type": "stream",
     "text": [
      "WARNING:absl:You are saving your model as an HDF5 file via `model.save()` or `keras.saving.save_model(model)`. This file format is considered legacy. We recommend using instead the native Keras format, e.g. `model.save('my_model.keras')` or `keras.saving.save_model(model, 'my_model.keras')`. \n"
     ]
    },
    {
     "name": "stdout",
     "output_type": "stream",
     "text": [
      "\u001b[1m113/113\u001b[0m \u001b[32m━━━━━━━━━━━━━━━━━━━━\u001b[0m\u001b[37m\u001b[0m \u001b[1m211s\u001b[0m 2s/step - accuracy: 0.8600 - loss: 0.4286 - precision: 0.8606 - recall: 0.8565 - val_accuracy: 0.8676 - val_loss: 0.4108 - val_precision: 0.8675 - val_recall: 0.8665 - learning_rate: 5.0000e-05\n",
      "Epoch 18/50\n",
      "\u001b[1m113/113\u001b[0m \u001b[32m━━━━━━━━━━━━━━━━━━━━\u001b[0m\u001b[37m\u001b[0m \u001b[1m215s\u001b[0m 2s/step - accuracy: 0.8718 - loss: 0.4071 - precision: 0.8731 - recall: 0.8697 - val_accuracy: 0.8053 - val_loss: 0.5178 - val_precision: 0.8062 - val_recall: 0.8053 - learning_rate: 5.0000e-05\n",
      "Epoch 19/50\n",
      "\u001b[1m113/113\u001b[0m \u001b[32m━━━━━━━━━━━━━━━━━━━━\u001b[0m\u001b[37m\u001b[0m \u001b[1m230s\u001b[0m 2s/step - accuracy: 0.8786 - loss: 0.4016 - precision: 0.8787 - recall: 0.8766 - val_accuracy: 0.8398 - val_loss: 0.4800 - val_precision: 0.8398 - val_recall: 0.8398 - learning_rate: 5.0000e-05\n",
      "Epoch 20/50\n",
      "\u001b[1m113/113\u001b[0m \u001b[32m━━━━━━━━━━━━━━━━━━━━\u001b[0m\u001b[37m\u001b[0m \u001b[1m218s\u001b[0m 2s/step - accuracy: 0.8696 - loss: 0.4155 - precision: 0.8714 - recall: 0.8690 - val_accuracy: 0.8487 - val_loss: 0.4504 - val_precision: 0.8495 - val_recall: 0.8476 - learning_rate: 5.0000e-05\n",
      "Epoch 21/50\n",
      "\u001b[1m113/113\u001b[0m \u001b[32m━━━━━━━━━━━━━━━━━━━━\u001b[0m\u001b[37m\u001b[0m \u001b[1m0s\u001b[0m 2s/step - accuracy: 0.8848 - loss: 0.3776 - precision: 0.8858 - recall: 0.8841"
     ]
    },
    {
     "name": "stderr",
     "output_type": "stream",
     "text": [
      "WARNING:absl:You are saving your model as an HDF5 file via `model.save()` or `keras.saving.save_model(model)`. This file format is considered legacy. We recommend using instead the native Keras format, e.g. `model.save('my_model.keras')` or `keras.saving.save_model(model, 'my_model.keras')`. \n"
     ]
    },
    {
     "name": "stdout",
     "output_type": "stream",
     "text": [
      "\u001b[1m113/113\u001b[0m \u001b[32m━━━━━━━━━━━━━━━━━━━━\u001b[0m\u001b[37m\u001b[0m \u001b[1m224s\u001b[0m 2s/step - accuracy: 0.8848 - loss: 0.3777 - precision: 0.8858 - recall: 0.8841 - val_accuracy: 0.8721 - val_loss: 0.3956 - val_precision: 0.8719 - val_recall: 0.8710 - learning_rate: 2.5000e-05\n",
      "Epoch 22/50\n",
      "\u001b[1m113/113\u001b[0m \u001b[32m━━━━━━━━━━━━━━━━━━━━\u001b[0m\u001b[37m\u001b[0m \u001b[1m217s\u001b[0m 2s/step - accuracy: 0.8833 - loss: 0.3872 - precision: 0.8841 - recall: 0.8832 - val_accuracy: 0.8732 - val_loss: 0.4133 - val_precision: 0.8732 - val_recall: 0.8732 - learning_rate: 2.5000e-05\n",
      "Epoch 23/50\n",
      "\u001b[1m113/113\u001b[0m \u001b[32m━━━━━━━━━━━━━━━━━━━━\u001b[0m\u001b[37m\u001b[0m \u001b[1m230s\u001b[0m 2s/step - accuracy: 0.8847 - loss: 0.3876 - precision: 0.8871 - recall: 0.8829 - val_accuracy: 0.8743 - val_loss: 0.4017 - val_precision: 0.8742 - val_recall: 0.8732 - learning_rate: 2.5000e-05\n",
      "Epoch 24/50\n",
      "\u001b[1m113/113\u001b[0m \u001b[32m━━━━━━━━━━━━━━━━━━━━\u001b[0m\u001b[37m\u001b[0m \u001b[1m207s\u001b[0m 2s/step - accuracy: 0.8991 - loss: 0.3631 - precision: 0.9002 - recall: 0.8981 - val_accuracy: 0.8142 - val_loss: 0.5257 - val_precision: 0.8151 - val_recall: 0.8142 - learning_rate: 2.5000e-05\n",
      "Epoch 25/50\n",
      "\u001b[1m113/113\u001b[0m \u001b[32m━━━━━━━━━━━━━━━━━━━━\u001b[0m\u001b[37m\u001b[0m \u001b[1m0s\u001b[0m 2s/step - accuracy: 0.8926 - loss: 0.3579 - precision: 0.8948 - recall: 0.8923"
     ]
    },
    {
     "name": "stderr",
     "output_type": "stream",
     "text": [
      "WARNING:absl:You are saving your model as an HDF5 file via `model.save()` or `keras.saving.save_model(model)`. This file format is considered legacy. We recommend using instead the native Keras format, e.g. `model.save('my_model.keras')` or `keras.saving.save_model(model, 'my_model.keras')`. \n"
     ]
    },
    {
     "name": "stdout",
     "output_type": "stream",
     "text": [
      "\u001b[1m113/113\u001b[0m \u001b[32m━━━━━━━━━━━━━━━━━━━━\u001b[0m\u001b[37m\u001b[0m \u001b[1m226s\u001b[0m 2s/step - accuracy: 0.8926 - loss: 0.3580 - precision: 0.8947 - recall: 0.8922 - val_accuracy: 0.8854 - val_loss: 0.3802 - val_precision: 0.8854 - val_recall: 0.8854 - learning_rate: 1.2500e-05\n",
      "Epoch 26/50\n",
      "\u001b[1m113/113\u001b[0m \u001b[32m━━━━━━━━━━━━━━━━━━━━\u001b[0m\u001b[37m\u001b[0m \u001b[1m226s\u001b[0m 2s/step - accuracy: 0.8961 - loss: 0.3618 - precision: 0.8967 - recall: 0.8948 - val_accuracy: 0.8765 - val_loss: 0.3871 - val_precision: 0.8764 - val_recall: 0.8754 - learning_rate: 1.2500e-05\n",
      "Epoch 27/50\n",
      "\u001b[1m113/113\u001b[0m \u001b[32m━━━━━━━━━━━━━━━━━━━━\u001b[0m\u001b[37m\u001b[0m \u001b[1m215s\u001b[0m 2s/step - accuracy: 0.8906 - loss: 0.3758 - precision: 0.8923 - recall: 0.8895 - val_accuracy: 0.8710 - val_loss: 0.3948 - val_precision: 0.8710 - val_recall: 0.8710 - learning_rate: 1.2500e-05\n",
      "Epoch 28/50\n",
      "\u001b[1m113/113\u001b[0m \u001b[32m━━━━━━━━━━━━━━━━━━━━\u001b[0m\u001b[37m\u001b[0m \u001b[1m211s\u001b[0m 2s/step - accuracy: 0.8987 - loss: 0.3663 - precision: 0.9006 - recall: 0.8961 - val_accuracy: 0.8198 - val_loss: 0.5034 - val_precision: 0.8216 - val_recall: 0.8198 - learning_rate: 1.2500e-05\n",
      "Epoch 29/50\n",
      "\u001b[1m113/113\u001b[0m \u001b[32m━━━━━━━━━━━━━━━━━━━━\u001b[0m\u001b[37m\u001b[0m \u001b[1m0s\u001b[0m 2s/step - accuracy: 0.8985 - loss: 0.3490 - precision: 0.8988 - recall: 0.8974"
     ]
    },
    {
     "name": "stderr",
     "output_type": "stream",
     "text": [
      "WARNING:absl:You are saving your model as an HDF5 file via `model.save()` or `keras.saving.save_model(model)`. This file format is considered legacy. We recommend using instead the native Keras format, e.g. `model.save('my_model.keras')` or `keras.saving.save_model(model, 'my_model.keras')`. \n"
     ]
    },
    {
     "name": "stdout",
     "output_type": "stream",
     "text": [
      "\u001b[1m113/113\u001b[0m \u001b[32m━━━━━━━━━━━━━━━━━━━━\u001b[0m\u001b[37m\u001b[0m \u001b[1m207s\u001b[0m 2s/step - accuracy: 0.8985 - loss: 0.3490 - precision: 0.8988 - recall: 0.8974 - val_accuracy: 0.8865 - val_loss: 0.3755 - val_precision: 0.8865 - val_recall: 0.8865 - learning_rate: 6.2500e-06\n",
      "Epoch 30/50\n",
      "\u001b[1m113/113\u001b[0m \u001b[32m━━━━━━━━━━━━━━━━━━━━\u001b[0m\u001b[37m\u001b[0m \u001b[1m216s\u001b[0m 2s/step - accuracy: 0.8995 - loss: 0.3556 - precision: 0.9000 - recall: 0.8987 - val_accuracy: 0.8821 - val_loss: 0.3762 - val_precision: 0.8831 - val_recall: 0.8821 - learning_rate: 6.2500e-06\n",
      "Epoch 31/50\n",
      "\u001b[1m113/113\u001b[0m \u001b[32m━━━━━━━━━━━━━━━━━━━━\u001b[0m\u001b[37m\u001b[0m \u001b[1m199s\u001b[0m 2s/step - accuracy: 0.9015 - loss: 0.3443 - precision: 0.9021 - recall: 0.9013 - val_accuracy: 0.8776 - val_loss: 0.3861 - val_precision: 0.8776 - val_recall: 0.8776 - learning_rate: 6.2500e-06\n",
      "Epoch 32/50\n",
      "\u001b[1m113/113\u001b[0m \u001b[32m━━━━━━━━━━━━━━━━━━━━\u001b[0m\u001b[37m\u001b[0m \u001b[1m199s\u001b[0m 2s/step - accuracy: 0.8979 - loss: 0.3542 - precision: 0.8983 - recall: 0.8964 - val_accuracy: 0.8776 - val_loss: 0.3796 - val_precision: 0.8776 - val_recall: 0.8776 - learning_rate: 6.2500e-06\n",
      "Epoch 33/50\n",
      "\u001b[1m113/113\u001b[0m \u001b[32m━━━━━━━━━━━━━━━━━━━━\u001b[0m\u001b[37m\u001b[0m \u001b[1m0s\u001b[0m 2s/step - accuracy: 0.9084 - loss: 0.3309 - precision: 0.9087 - recall: 0.9080"
     ]
    },
    {
     "name": "stderr",
     "output_type": "stream",
     "text": [
      "WARNING:absl:You are saving your model as an HDF5 file via `model.save()` or `keras.saving.save_model(model)`. This file format is considered legacy. We recommend using instead the native Keras format, e.g. `model.save('my_model.keras')` or `keras.saving.save_model(model, 'my_model.keras')`. \n"
     ]
    },
    {
     "name": "stdout",
     "output_type": "stream",
     "text": [
      "\u001b[1m113/113\u001b[0m \u001b[32m━━━━━━━━━━━━━━━━━━━━\u001b[0m\u001b[37m\u001b[0m \u001b[1m204s\u001b[0m 2s/step - accuracy: 0.9083 - loss: 0.3312 - precision: 0.9086 - recall: 0.9079 - val_accuracy: 0.8821 - val_loss: 0.3750 - val_precision: 0.8820 - val_recall: 0.8810 - learning_rate: 3.1250e-06\n",
      "Epoch 34/50\n",
      "\u001b[1m113/113\u001b[0m \u001b[32m━━━━━━━━━━━━━━━━━━━━\u001b[0m\u001b[37m\u001b[0m \u001b[1m0s\u001b[0m 32s/step - accuracy: 0.8965 - loss: 0.3633 - precision: 0.8962 - recall: 0.8931 "
     ]
    },
    {
     "name": "stderr",
     "output_type": "stream",
     "text": [
      "WARNING:absl:You are saving your model as an HDF5 file via `model.save()` or `keras.saving.save_model(model)`. This file format is considered legacy. We recommend using instead the native Keras format, e.g. `model.save('my_model.keras')` or `keras.saving.save_model(model, 'my_model.keras')`. \n"
     ]
    },
    {
     "name": "stdout",
     "output_type": "stream",
     "text": [
      "\u001b[1m113/113\u001b[0m \u001b[32m━━━━━━━━━━━━━━━━━━━━\u001b[0m\u001b[37m\u001b[0m \u001b[1m3572s\u001b[0m 32s/step - accuracy: 0.8964 - loss: 0.3633 - precision: 0.8961 - recall: 0.8931 - val_accuracy: 0.8865 - val_loss: 0.3718 - val_precision: 0.8865 - val_recall: 0.8865 - learning_rate: 3.1250e-06\n",
      "Epoch 35/50\n",
      "\u001b[1m113/113\u001b[0m \u001b[32m━━━━━━━━━━━━━━━━━━━━\u001b[0m\u001b[37m\u001b[0m \u001b[1m191s\u001b[0m 2s/step - accuracy: 0.9024 - loss: 0.3448 - precision: 0.9023 - recall: 0.9011 - val_accuracy: 0.8621 - val_loss: 0.4045 - val_precision: 0.8619 - val_recall: 0.8610 - learning_rate: 3.1250e-06\n",
      "Epoch 36/50\n",
      "\u001b[1m113/113\u001b[0m \u001b[32m━━━━━━━━━━━━━━━━━━━━\u001b[0m\u001b[37m\u001b[0m \u001b[1m0s\u001b[0m 2s/step - accuracy: 0.8887 - loss: 0.3691 - precision: 0.8893 - recall: 0.8878"
     ]
    },
    {
     "name": "stderr",
     "output_type": "stream",
     "text": [
      "WARNING:absl:You are saving your model as an HDF5 file via `model.save()` or `keras.saving.save_model(model)`. This file format is considered legacy. We recommend using instead the native Keras format, e.g. `model.save('my_model.keras')` or `keras.saving.save_model(model, 'my_model.keras')`. \n"
     ]
    },
    {
     "name": "stdout",
     "output_type": "stream",
     "text": [
      "\u001b[1m113/113\u001b[0m \u001b[32m━━━━━━━━━━━━━━━━━━━━\u001b[0m\u001b[37m\u001b[0m \u001b[1m201s\u001b[0m 2s/step - accuracy: 0.8888 - loss: 0.3690 - precision: 0.8894 - recall: 0.8878 - val_accuracy: 0.8888 - val_loss: 0.3690 - val_precision: 0.8888 - val_recall: 0.8888 - learning_rate: 3.1250e-06\n",
      "Epoch 37/50\n",
      "\u001b[1m113/113\u001b[0m \u001b[32m━━━━━━━━━━━━━━━━━━━━\u001b[0m\u001b[37m\u001b[0m \u001b[1m0s\u001b[0m 2s/step - accuracy: 0.9076 - loss: 0.3386 - precision: 0.9081 - recall: 0.9064"
     ]
    },
    {
     "name": "stderr",
     "output_type": "stream",
     "text": [
      "WARNING:absl:You are saving your model as an HDF5 file via `model.save()` or `keras.saving.save_model(model)`. This file format is considered legacy. We recommend using instead the native Keras format, e.g. `model.save('my_model.keras')` or `keras.saving.save_model(model, 'my_model.keras')`. \n"
     ]
    },
    {
     "name": "stdout",
     "output_type": "stream",
     "text": [
      "\u001b[1m113/113\u001b[0m \u001b[32m━━━━━━━━━━━━━━━━━━━━\u001b[0m\u001b[37m\u001b[0m \u001b[1m199s\u001b[0m 2s/step - accuracy: 0.9075 - loss: 0.3387 - precision: 0.9080 - recall: 0.9064 - val_accuracy: 0.8910 - val_loss: 0.3687 - val_precision: 0.8910 - val_recall: 0.8910 - learning_rate: 3.1250e-06\n",
      "Epoch 38/50\n",
      "\u001b[1m113/113\u001b[0m \u001b[32m━━━━━━━━━━━━━━━━━━━━\u001b[0m\u001b[37m\u001b[0m \u001b[1m199s\u001b[0m 2s/step - accuracy: 0.9018 - loss: 0.3475 - precision: 0.9039 - recall: 0.9010 - val_accuracy: 0.8877 - val_loss: 0.3694 - val_precision: 0.8877 - val_recall: 0.8877 - learning_rate: 3.1250e-06\n",
      "Epoch 39/50\n",
      "\u001b[1m113/113\u001b[0m \u001b[32m━━━━━━━━━━━━━━━━━━━━\u001b[0m\u001b[37m\u001b[0m \u001b[1m21050s\u001b[0m 188s/step - accuracy: 0.9017 - loss: 0.3526 - precision: 0.9022 - recall: 0.9011 - val_accuracy: 0.8821 - val_loss: 0.3756 - val_precision: 0.8821 - val_recall: 0.8821 - learning_rate: 3.1250e-06\n",
      "Epoch 40/50\n",
      "\u001b[1m113/113\u001b[0m \u001b[32m━━━━━━━━━━━━━━━━━━━━\u001b[0m\u001b[37m\u001b[0m \u001b[1m0s\u001b[0m 2s/step - accuracy: 0.8999 - loss: 0.3421 - precision: 0.9000 - recall: 0.8981"
     ]
    },
    {
     "name": "stderr",
     "output_type": "stream",
     "text": [
      "WARNING:absl:You are saving your model as an HDF5 file via `model.save()` or `keras.saving.save_model(model)`. This file format is considered legacy. We recommend using instead the native Keras format, e.g. `model.save('my_model.keras')` or `keras.saving.save_model(model, 'my_model.keras')`. \n"
     ]
    },
    {
     "name": "stdout",
     "output_type": "stream",
     "text": [
      "\u001b[1m113/113\u001b[0m \u001b[32m━━━━━━━━━━━━━━━━━━━━\u001b[0m\u001b[37m\u001b[0m \u001b[1m195s\u001b[0m 2s/step - accuracy: 0.9000 - loss: 0.3421 - precision: 0.9001 - recall: 0.8982 - val_accuracy: 0.8921 - val_loss: 0.3686 - val_precision: 0.8921 - val_recall: 0.8921 - learning_rate: 3.1250e-06\n",
      "Epoch 41/50\n",
      "\u001b[1m113/113\u001b[0m \u001b[32m━━━━━━━━━━━━━━━━━━━━\u001b[0m\u001b[37m\u001b[0m \u001b[1m211s\u001b[0m 2s/step - accuracy: 0.9037 - loss: 0.3436 - precision: 0.9035 - recall: 0.9009 - val_accuracy: 0.8899 - val_loss: 0.3717 - val_precision: 0.8899 - val_recall: 0.8899 - learning_rate: 3.1250e-06\n",
      "Epoch 42/50\n",
      "\u001b[1m113/113\u001b[0m \u001b[32m━━━━━━━━━━━━━━━━━━━━\u001b[0m\u001b[37m\u001b[0m \u001b[1m205s\u001b[0m 2s/step - accuracy: 0.9006 - loss: 0.3449 - precision: 0.9009 - recall: 0.8995 - val_accuracy: 0.8776 - val_loss: 0.3776 - val_precision: 0.8776 - val_recall: 0.8776 - learning_rate: 3.1250e-06\n",
      "Epoch 43/50\n",
      "\u001b[1m113/113\u001b[0m \u001b[32m━━━━━━━━━━━━━━━━━━━━\u001b[0m\u001b[37m\u001b[0m \u001b[1m0s\u001b[0m 2s/step - accuracy: 0.9081 - loss: 0.3338 - precision: 0.9089 - recall: 0.9070"
     ]
    },
    {
     "name": "stderr",
     "output_type": "stream",
     "text": [
      "WARNING:absl:You are saving your model as an HDF5 file via `model.save()` or `keras.saving.save_model(model)`. This file format is considered legacy. We recommend using instead the native Keras format, e.g. `model.save('my_model.keras')` or `keras.saving.save_model(model, 'my_model.keras')`. \n"
     ]
    },
    {
     "name": "stdout",
     "output_type": "stream",
     "text": [
      "\u001b[1m113/113\u001b[0m \u001b[32m━━━━━━━━━━━━━━━━━━━━\u001b[0m\u001b[37m\u001b[0m \u001b[1m198s\u001b[0m 2s/step - accuracy: 0.9080 - loss: 0.3339 - precision: 0.9088 - recall: 0.9069 - val_accuracy: 0.8921 - val_loss: 0.3662 - val_precision: 0.8921 - val_recall: 0.8921 - learning_rate: 3.1250e-06\n",
      "Epoch 44/50\n",
      "\u001b[1m113/113\u001b[0m \u001b[32m━━━━━━━━━━━━━━━━━━━━\u001b[0m\u001b[37m\u001b[0m \u001b[1m207s\u001b[0m 2s/step - accuracy: 0.9113 - loss: 0.3315 - precision: 0.9118 - recall: 0.9102 - val_accuracy: 0.8865 - val_loss: 0.3717 - val_precision: 0.8865 - val_recall: 0.8865 - learning_rate: 3.1250e-06\n",
      "Epoch 45/50\n",
      "\u001b[1m113/113\u001b[0m \u001b[32m━━━━━━━━━━━━━━━━━━━━\u001b[0m\u001b[37m\u001b[0m \u001b[1m204s\u001b[0m 2s/step - accuracy: 0.9015 - loss: 0.3467 - precision: 0.9027 - recall: 0.9012 - val_accuracy: 0.8899 - val_loss: 0.3691 - val_precision: 0.8899 - val_recall: 0.8899 - learning_rate: 3.1250e-06\n",
      "Epoch 46/50\n",
      "\u001b[1m113/113\u001b[0m \u001b[32m━━━━━━━━━━━━━━━━━━━━\u001b[0m\u001b[37m\u001b[0m \u001b[1m205s\u001b[0m 2s/step - accuracy: 0.9150 - loss: 0.3306 - precision: 0.9151 - recall: 0.9131 - val_accuracy: 0.8899 - val_loss: 0.3665 - val_precision: 0.8898 - val_recall: 0.8888 - learning_rate: 3.1250e-06\n",
      "Epoch 47/50\n",
      "\u001b[1m113/113\u001b[0m \u001b[32m━━━━━━━━━━━━━━━━━━━━\u001b[0m\u001b[37m\u001b[0m \u001b[1m0s\u001b[0m 2s/step - accuracy: 0.8970 - loss: 0.3501 - precision: 0.8978 - recall: 0.8953"
     ]
    },
    {
     "name": "stderr",
     "output_type": "stream",
     "text": [
      "WARNING:absl:You are saving your model as an HDF5 file via `model.save()` or `keras.saving.save_model(model)`. This file format is considered legacy. We recommend using instead the native Keras format, e.g. `model.save('my_model.keras')` or `keras.saving.save_model(model, 'my_model.keras')`. \n"
     ]
    },
    {
     "name": "stdout",
     "output_type": "stream",
     "text": [
      "\u001b[1m113/113\u001b[0m \u001b[32m━━━━━━━━━━━━━━━━━━━━\u001b[0m\u001b[37m\u001b[0m \u001b[1m201s\u001b[0m 2s/step - accuracy: 0.8970 - loss: 0.3501 - precision: 0.8978 - recall: 0.8953 - val_accuracy: 0.8899 - val_loss: 0.3657 - val_precision: 0.8899 - val_recall: 0.8899 - learning_rate: 1.5625e-06\n",
      "Epoch 48/50\n",
      "\u001b[1m113/113\u001b[0m \u001b[32m━━━━━━━━━━━━━━━━━━━━\u001b[0m\u001b[37m\u001b[0m \u001b[1m0s\u001b[0m 2s/step - accuracy: 0.9026 - loss: 0.3363 - precision: 0.9033 - recall: 0.9019"
     ]
    },
    {
     "name": "stderr",
     "output_type": "stream",
     "text": [
      "WARNING:absl:You are saving your model as an HDF5 file via `model.save()` or `keras.saving.save_model(model)`. This file format is considered legacy. We recommend using instead the native Keras format, e.g. `model.save('my_model.keras')` or `keras.saving.save_model(model, 'my_model.keras')`. \n"
     ]
    },
    {
     "name": "stdout",
     "output_type": "stream",
     "text": [
      "\u001b[1m113/113\u001b[0m \u001b[32m━━━━━━━━━━━━━━━━━━━━\u001b[0m\u001b[37m\u001b[0m \u001b[1m206s\u001b[0m 2s/step - accuracy: 0.9026 - loss: 0.3363 - precision: 0.9033 - recall: 0.9019 - val_accuracy: 0.8899 - val_loss: 0.3649 - val_precision: 0.8899 - val_recall: 0.8899 - learning_rate: 1.5625e-06\n",
      "Epoch 49/50\n",
      "\u001b[1m113/113\u001b[0m \u001b[32m━━━━━━━━━━━━━━━━━━━━\u001b[0m\u001b[37m\u001b[0m \u001b[1m209s\u001b[0m 2s/step - accuracy: 0.9054 - loss: 0.3491 - precision: 0.9060 - recall: 0.9049 - val_accuracy: 0.8821 - val_loss: 0.3735 - val_precision: 0.8831 - val_recall: 0.8821 - learning_rate: 1.5625e-06\n",
      "Epoch 50/50\n",
      "\u001b[1m113/113\u001b[0m \u001b[32m━━━━━━━━━━━━━━━━━━━━\u001b[0m\u001b[37m\u001b[0m \u001b[1m203s\u001b[0m 2s/step - accuracy: 0.9165 - loss: 0.3372 - precision: 0.9174 - recall: 0.9151 - val_accuracy: 0.8910 - val_loss: 0.3652 - val_precision: 0.8920 - val_recall: 0.8910 - learning_rate: 1.5625e-06\n"
     ]
    }
   ],
   "source": [
    "print(\"Starting training...\")\n",
    "history = model.fit(\n",
    "    X_train, y_train,\n",
    "    validation_data=(X_val, y_val),\n",
    "    epochs=EPOCHS,\n",
    "    batch_size=BATCH_SIZE,\n",
    "    callbacks=callbacks,\n",
    "    verbose=1\n",
    ")"
   ]
  },
  {
   "cell_type": "markdown",
   "id": "975d811b-4dd0-4017-911e-0536fc192826",
   "metadata": {},
   "source": [
    "### Training Visualization"
   ]
  },
  {
   "cell_type": "code",
   "execution_count": 43,
   "id": "92acf4af-407f-4f1e-bf00-c4fbec016c10",
   "metadata": {},
   "outputs": [
    {
     "data": {
      "image/png": "[encoded data removed]",
      "text/plain": [
       "<Figure size 1200x500 with 2 Axes>"
      ]
     },
     "metadata": {},
     "output_type": "display_data"
    }
   ],
   "source": [
    "plt.figure(figsize=(12, 5))\n",
    "plt.subplot(1, 2, 1)\n",
    "plt.plot(history.history['accuracy'], label='Train Accuracy')\n",
    "plt.plot(history.history['val_accuracy'], label='Validation Accuracy')\n",
    "plt.title('Model Accuracy')\n",
    "plt.ylabel('Accuracy')\n",
    "plt.xlabel('Epoch')\n",
    "plt.legend()\n",
    "\n",
    "plt.subplot(1, 2, 2)\n",
    "plt.plot(history.history['loss'], label='Train Loss')\n",
    "plt.plot(history.history['val_loss'], label='Validation Loss')\n",
    "plt.title('Model Loss')\n",
    "plt.ylabel('Loss')\n",
    "plt.xlabel('Epoch')\n",
    "plt.legend()\n",
    "plt.show()"
   ]
  },
  {
   "cell_type": "markdown",
   "id": "25b9780e-9725-4c77-a2ee-6b26ec05ee96",
   "metadata": {},
   "source": [
    "### Model Testing (Example)"
   ]
  },
  {
   "cell_type": "code",
   "execution_count": 45,
   "id": "9f88da69-4c71-4a5f-a6d2-9015d9ec0af0",
   "metadata": {},
   "outputs": [
    {
     "name": "stdout",
     "output_type": "stream",
     "text": [
      "\u001b[1m1/1\u001b[0m \u001b[32m━━━━━━━━━━━━━━━━━━━━\u001b[0m\u001b[37m\u001b[0m \u001b[1m0s\u001b[0m 74ms/step\n",
      "Test prediction: {'abnormal': 0.13749487698078156, 'artifact': 0.0012803704012185335, 'normal': 0.8612247109413147}\n"
     ]
    }
   ],
   "source": [
    "def test_prediction(file_path):\n",
    "    mfccs = process_audio(file_path)\n",
    "    mfccs = tf.image.resize(mfccs[..., np.newaxis], INPUT_SHAPE[:2])\n",
    "    prediction = model.predict(np.expand_dims(mfccs, 0))\n",
    "    return {CLASSES[i]: float(prediction[0][i]) for i in range(len(CLASSES))}\n",
    "\n",
    "# Example usage\n",
    "test_file = \"test_data/123.wav\"\n",
    "print(\"Test prediction:\", test_prediction(test_file))"
   ]
  },
  {
   "cell_type": "code",
   "execution_count": 55,
   "id": "5b0acb7a-3223-4a3d-9061-463b87391f5f",
   "metadata": {},
   "outputs": [],
   "source": [
    "def evaluate_model(model, x_test, y_test, class_names):\n",
    "    y_pred_probs = model.predict(x_test)\n",
    "    y_pred_classes = np.argmax(y_pred_probs, axis=1)\n",
    "\n",
    "    # Classification report\n",
    "    print(\"Classification Report:\\n\")\n",
    "    print(classification_report(y_test, y_pred_classes, target_names=class_names))\n",
    "\n",
    "    # Confusion matrix\n",
    "    cm = confusion_matrix(y_test, y_pred_classes)\n",
    "    cm_normalized = cm.astype('float') / cm.sum(axis=1)[:, np.newaxis]\n",
    "\n",
    "    # Print raw matrix\n",
    "    print(\"Confusion Matrix (Raw Counts):\\n\", cm)\n",
    "    print(\"Confusion Matrix (Normalized):\\n\", np.round(cm_normalized, 2))\n",
    "\n",
    "    # Plot\n",
    "    fig, axes = plt.subplots(1, 2, figsize=(12, 5))\n",
    "    sns.heatmap(cm, annot=True, fmt='d', cmap='Blues',\n",
    "                xticklabels=class_names, yticklabels=class_names, ax=axes[0])\n",
    "    axes[0].set_title('Confusion Matrix (Raw Counts)')\n",
    "    axes[0].set_xlabel('Predicted Label')\n",
    "    axes[0].set_ylabel('True Label')\n",
    "\n",
    "    sns.heatmap(cm_normalized, annot=True, fmt='.2f', cmap='Greens',\n",
    "                xticklabels=class_names, yticklabels=class_names, ax=axes[1])\n",
    "    axes[1].set_title('Confusion Matrix (Normalized)')\n",
    "    axes[1].set_xlabel('Predicted Label')\n",
    "    axes[1].set_ylabel('True Label')\n",
    "\n",
    "    plt.tight_layout()\n",
    "    plt.savefig(\"confusion_matrices.png\", dpi=300)\n",
    "    plt.show()"
   ]
  },
  {
   "cell_type": "code",
   "execution_count": 61,
   "id": "bcc97dcf-d109-4ed7-9f92-cce81438bfcd",
   "metadata": {},
   "outputs": [
    {
     "name": "stderr",
     "output_type": "stream",
     "text": [
      "WARNING:absl:You are saving your model as an HDF5 file via `model.save()` or `keras.saving.save_model(model)`. This file format is considered legacy. We recommend using instead the native Keras format, e.g. `model.save('my_model.keras')` or `keras.saving.save_model(model, 'my_model.keras')`. \n"
     ]
    }
   ],
   "source": [
    "# as a keras model\n",
    "model.save('models/heart_sound_model1_v5_0001.keras')\n",
    "# as a h5 model\n",
    "model.save(\"models/heart_sound_model1_v5_0001.h5\")"
   ]
  },
  {
   "cell_type": "code",
   "execution_count": 65,
   "id": "17a944d6-764b-4c24-bf9e-89c683fae6f9",
   "metadata": {},
   "outputs": [
    {
     "name": "stdout",
     "output_type": "stream",
     "text": [
      "\u001b[1m29/29\u001b[0m \u001b[32m━━━━━━━━━━━━━━━━━━━━\u001b[0m\u001b[37m\u001b[0m \u001b[1m10s\u001b[0m 356ms/step\n",
      "Classification Report:\n",
      "\n",
      "              precision    recall  f1-score   support\n",
      "\n",
      "    abnormal       0.89      0.80      0.84       327\n",
      "    artifact       1.00      1.00      1.00       245\n",
      "      normal       0.82      0.90      0.86       327\n",
      "\n",
      "    accuracy                           0.89       899\n",
      "   macro avg       0.90      0.90      0.90       899\n",
      "weighted avg       0.89      0.89      0.89       899\n",
      "\n",
      "Confusion Matrix (Raw Counts):\n",
      " [[261   0  66]\n",
      " [  0 245   0]\n",
      " [ 33   0 294]]\n",
      "Confusion Matrix (Normalized):\n",
      " [[0.8 0.  0.2]\n",
      " [0.  1.  0. ]\n",
      " [0.1 0.  0.9]]\n"
     ]
    },
    {
     "data": {
      "image/png": "[encoded data removed]",
      "text/plain": [
       "<Figure size 1200x500 with 4 Axes>"
      ]
     },
     "metadata": {},
     "output_type": "display_data"
    }
   ],
   "source": [
    "class_names = ['abnormal', 'artifact', 'normal']\n",
    "# evaluate_model(model, X_val, y_val, class_names)\n",
    "evaluate_model(model, X_val, np.argmax(y_val, axis=1), class_names)\n"
   ]
  }
 ],
 "metadata": {
  "kernelspec": {
   "display_name": "Python [conda env:base] *",
   "language": "python",
   "name": "conda-base-py"
  },
  "language_info": {
   "codemirror_mode": {
    "name": "ipython",
    "version": 3
   },
   "file_extension": ".py",
   "mimetype": "text/x-python",
   "name": "python",
   "nbconvert_exporter": "python",
   "pygments_lexer": "ipython3",
   "version": "3.12.7"
  }
 },
 "nbformat": 4,
 "nbformat_minor": 5
}
